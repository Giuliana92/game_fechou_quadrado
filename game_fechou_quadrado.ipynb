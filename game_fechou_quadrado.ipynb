{
 "cells": [
  {
   "cell_type": "markdown",
   "metadata": {},
   "source": [
    "# FECHOU O QUADRADO"
   ]
  },
  {
   "cell_type": "markdown",
   "metadata": {},
   "source": [
    "Serão dois participantes e o objetivo do jogo é ver quem fecha  quadrado primeiro. "
   ]
  },
  {
   "cell_type": "markdown",
   "metadata": {},
   "source": [
    "## O JOGO "
   ]
  },
  {
   "cell_type": "code",
   "execution_count": null,
   "metadata": {
    "ExecuteTime": {
     "start_time": "2021-01-06T18:10:23.285Z"
    }
   },
   "outputs": [
    {
     "name": "stdout",
     "output_type": "stream",
     "text": [
      "Quem vai jogar primeiro?\n",
      "Giuliana\n",
      "Olá, Giuliana. Bem vindo(a) ao FECHOU O QUADRADO!\n",
      "e agora, quem é o 2°?\n",
      "Darua\n",
      "Olá, Darua. Bem vindo(a) ao FECHOU O QUADRADO também!\n",
      "Veja como é esse tabuleiro\n",
      "[[ 0  1  2  3  4]\n",
      " [ 5  6  7  8  9]\n",
      " [10 11 12 13 14]\n",
      " [15 16 17 18 19]\n",
      " [20 21 22 23 24]]\n",
      "Na horizontal temos A, X, Y, Z e K e na vertical os números de 1 a 5\n",
      "Giuliana, você começa!\n",
      "escolha um elemento da matriz:\n",
      "['A1', 'X1', 'Y1', 'Z1', 'K1', 'A2', 'X2', 'Y2', 'Z2', 'K2', 'A3', 'X3', 'Y3', 'Z3', 'K3', 'A4', 'X4', 'Y4', 'Z4', 'K4', 'A5', 'X5', 'Y5', 'Z5', 'K5']\n",
      "A1\n",
      "Darua, agora é você!\n",
      "escolha um elemento da matriz:\n",
      "['X1', 'Y1', 'Z1', 'K1', 'A2', 'X2', 'Y2', 'Z2', 'K2', 'A3', 'X3', 'Y3', 'Z3', 'K3', 'A4', 'X4', 'Y4', 'Z4', 'K4', 'A5', 'X5', 'Y5', 'Z5', 'K5']\n",
      "Y3\n",
      "Giuliana, sua vez!\n",
      "escolha um elemento da matriz:\n",
      "['X1', 'Y1', 'Z1', 'K1', 'A2', 'X2', 'Y2', 'Z2', 'K2', 'A3', 'X3', 'Z3', 'K3', 'A4', 'X4', 'Y4', 'Z4', 'K4', 'A5', 'X5', 'Y5', 'Z5', 'K5']\n",
      "X1\n",
      "Darua, agora é você!\n",
      "escolha um elemento da matriz:\n",
      "['Y1', 'Z1', 'K1', 'A2', 'X2', 'Y2', 'Z2', 'K2', 'A3', 'X3', 'Z3', 'K3', 'A4', 'X4', 'Y4', 'Z4', 'K4', 'A5', 'X5', 'Y5', 'Z5', 'K5']\n",
      "Z3\n",
      "Giuliana, sua vez!\n",
      "escolha um elemento da matriz:\n",
      "['Y1', 'Z1', 'K1', 'A2', 'X2', 'Y2', 'Z2', 'K2', 'A3', 'X3', 'K3', 'A4', 'X4', 'Y4', 'Z4', 'K4', 'A5', 'X5', 'Y5', 'Z5', 'K5']\n",
      "A2\n",
      "Darua, agora é você!\n",
      "escolha um elemento da matriz:\n",
      "['Y1', 'Z1', 'K1', 'X2', 'Y2', 'Z2', 'K2', 'A3', 'X3', 'K3', 'A4', 'X4', 'Y4', 'Z4', 'K4', 'A5', 'X5', 'Y5', 'Z5', 'K5']\n",
      "A4\n",
      "Giuliana, sua vez!\n",
      "escolha um elemento da matriz:\n",
      "['Y1', 'Z1', 'K1', 'X2', 'Y2', 'Z2', 'K2', 'A3', 'X3', 'K3', 'X4', 'Y4', 'Z4', 'K4', 'A5', 'X5', 'Y5', 'Z5', 'K5']\n",
      "X2\n",
      "Darua, agora é você!\n",
      "escolha um elemento da matriz:\n",
      "['Y1', 'Z1', 'K1', 'Y2', 'Z2', 'K2', 'A3', 'X3', 'K3', 'X4', 'Y4', 'Z4', 'K4', 'A5', 'X5', 'Y5', 'Z5', 'K5']\n"
     ]
    }
   ],
   "source": [
    "#### primeiro é definido o nome dos jogadores\n",
    "jogador_1 = print(\"Quem vai jogar primeiro?\")\n",
    "jogador_1 = input()\n",
    "print(\"Olá, \" + jogador_1 +\". Bem vindo(a) ao FECHOU O QUADRADO!\" )\n",
    "\n",
    "jogador_2 = print(\"e agora, quem é o 2°?\")\n",
    "jogador_2 = input()\n",
    "print(\"Olá, \" + jogador_2 +\". Bem vindo(a) ao FECHOU O QUADRADO também!\")\n",
    "\n",
    "#depois é definido o  tabuleiro\n",
    "print(\"Veja como é esse tabuleiro\")\n",
    "import numpy as np\n",
    "lista = np.arange(0, 25).reshape(5, 5)\n",
    "print(lista)\n",
    "matriz = [\"A1\",\"X1\",\"Y1\",\"Z1\",\"K1\",\n",
    "          \"A2\",\"X2\",\"Y2\",\"Z2\",\"K2\",\n",
    "          \"A3\",\"X3\",\"Y3\",\"Z3\",\"K3\",\n",
    "          \"A4\",\"X4\",\"Y4\",\"Z4\",\"K4\",\n",
    "          \"A5\",\"X5\",\"Y5\",\"Z5\",\"K5\"]\n",
    "\n",
    "print(\"Na horizontal temos A, X, Y, Z e K e na vertical os números de 1 a 5\")\n",
    "\n",
    "#para o funcionamento do jogo usamos 2 listas para cada jogador\n",
    "lista_jogador_1 = []\n",
    "count_1 = 0\n",
    "lista_jogador_2 = []\n",
    "count_2 = 0\n",
    "\n",
    "#o primeiro jogador tem uma mensagem personalizada\n",
    "print (jogador_1 + \", você começa!\")\n",
    "print (\"escolha um elemento da matriz:\")\n",
    "print (matriz)\n",
    "comand_1 = input()\n",
    "lista_jogador_1.append(comand_1)\n",
    "matriz.remove(comand_1)\n",
    "\n",
    "#depois um looping foi criado para passar automaticamente do jogador 1 para o 2 até que acabe o jogo\n",
    "while len(matriz) > 10:\n",
    "    \n",
    "    print (jogador_2 + \", agora é você!\")\n",
    "    print (\"escolha um elemento da matriz:\")\n",
    "    print (matriz)\n",
    "    comand_2 = input()\n",
    "    lista_jogador_2.append(comand_2)\n",
    "    matriz.remove(comand_2)\n",
    "    \n",
    "    print (jogador_1 + \", sua vez!\")\n",
    "    print (\"escolha um elemento da matriz:\")\n",
    "    print (matriz)\n",
    "    comand_1 = input()\n",
    "    lista_jogador_1.append(comand_1)\n",
    "    matriz.remove(comand_1)\n",
    "\n",
    "#agora a contagem dos pontos do jogador 1\n",
    "if \"A1\" and \"X1\" and \"A2\" and \"X2\" in lista_jogador_1:\n",
    "    count_1 +=1\n",
    "print(count_1)\n",
    "if \"A2\" and \"X2\" and \"A3\" and \"X3\" in lista_jogador_1:\n",
    "    count_1 +=1\n",
    "print(count_1)\n",
    "if \"A3\" and \"X3\" and \"A4\" and \"X4\" in lista_jogador_1:\n",
    "    count_1 +=1\n",
    "print(count_1)\n",
    "if \"A4\" and \"X4\" and \"A5\" and \"X5\" in lista_jogador_1:\n",
    "    count_1 +=1\n",
    "print(count_1)\n",
    "if \"X1\" and \"Y1\" and \"X2\" and \"Y2\" in lista_jogador_1:\n",
    "    count_1 +=1\n",
    "print(count_1)\n",
    "if \"X2\" and \"Y2\" and \"X3\" and \"Y3\" in lista_jogador_1:\n",
    "    count_1 +=1\n",
    "print(count_1)\n",
    "if \"X3\" and \"Y3\" and \"X4\" and \"Y4\" in lista_jogador_1:\n",
    "    count_1 +=1\n",
    "print(count_1)\n",
    "if \"X4\" and \"Y4\" and \"X5\" and \"Y5\" in lista_jogador_1:\n",
    "    count_1 +=1\n",
    "print(count_1)\n",
    "if \"Y1\" and \"Z1\" and \"Y2\" and \"Z2\" in lista_jogador_1:\n",
    "    count_1 +=1\n",
    "print(count_1)\n",
    "if \"Y2\" and \"Z2\" and \"Y3\" and \"Z3\" in lista_jogador_1:\n",
    "    count_1 +=1\n",
    "print(count_1)\n",
    "if \"Y3\" and \"Z3\" and \"Y4\" and \"Z4\" in lista_jogador_1:\n",
    "    count_1 +=1\n",
    "print(count_1)\n",
    "if \"Y4\" and \"Z4\" and \"Y5\" and \"Z5\" in lista_jogador_1:\n",
    "    count_1 +=1\n",
    "print(count_1)\n",
    "if \"Z1\" and \"K1\" and \"Z2\" and \"K2\" in lista_jogador_1:\n",
    "    count_1 +=1\n",
    "print(count_1)\n",
    "if \"Z2\" and \"K2\" and \"Z3\" and \"K3\" in lista_jogador_1:\n",
    "    count_1 +=1\n",
    "print(count_1)\n",
    "if \"Z3\" and \"K3\" and \"Z4\" and \"K4\" in lista_jogador_1:\n",
    "    count_1 +=1\n",
    "print(count_1)\n",
    "if \"Z4\" and \"K4\" and \"Z5\" and \"K5\" in lista_jogador_1:\n",
    "    count_1 +=1\n",
    "print(count_1)\n",
    "\n",
    "#agora a contagem dos pontos do jogador 2\n",
    "if \"A1\" and \"X1\" and \"A2\" and \"X2\" in lista_jogador_2:\n",
    "    count_2 +=1\n",
    "print(count_2)\n",
    "if \"A2\" and \"X2\" and \"A3\" and \"X3\" in lista_jogador_2:\n",
    "    count_2 +=1\n",
    "print(count_2)\n",
    "if \"A3\" and \"X3\" and \"A4\" and \"X4\" in lista_jogador_2:\n",
    "    count_2 +=1\n",
    "print(count_2)\n",
    "if \"A4\" and \"X4\" and \"A5\" and \"X5\" in lista_jogador_2:\n",
    "    count_2 +=1\n",
    "print(count_2)\n",
    "if \"X1\" and \"Y1\" and \"X2\" and \"Y2\" in lista_jogador_2:\n",
    "    count_2 +=1\n",
    "print(count_2)\n",
    "if \"X2\" and \"Y2\" and \"X3\" and \"Y3\" in lista_jogador_2:\n",
    "    count_2 +=1\n",
    "print(count_2)\n",
    "if \"X3\" and \"Y3\" and \"X4\" and \"Y4\" in lista_jogador_2:\n",
    "    count_2 +=1\n",
    "print(count_2)\n",
    "if \"X4\" and \"Y4\" and \"X5\" and \"Y5\" in lista_jogador_2:\n",
    "    count_2 +=1\n",
    "print(count_2)\n",
    "if \"Y1\" and \"Z1\" and \"Y2\" and \"Z2\" in lista_jogador_2:\n",
    "    count_2 +=1\n",
    "print(count_2)\n",
    "if \"Y2\" and \"Z2\" and \"Y3\" and \"Z3\" in lista_jogador_2:\n",
    "    count_2 +=1\n",
    "print(count_2)\n",
    "if \"Y3\" and \"Z3\" and \"Y4\" and \"Z4\" in lista_jogador_2:\n",
    "    count_2 +=1\n",
    "print(count_2)\n",
    "if \"Y4\" and \"Z4\" and \"Y5\" and \"Z5\" in lista_jogador_2:\n",
    "    count_2 +=1\n",
    "print(count_2)\n",
    "if \"Z1\" and \"K1\" and \"Z2\" and \"K2\" in lista_jogador_2:\n",
    "    count_2 +=1\n",
    "print(count_2)\n",
    "if \"Z2\" and \"K2\" and \"Z3\" and \"K3\" in lista_jogador_2:\n",
    "    count_2 +=1\n",
    "print(count_2)\n",
    "if \"Z3\" and \"K3\" and \"Z4\" and \"K4\" in lista_jogador_2:\n",
    "    count_2 +=1\n",
    "print(count_2)\n",
    "if \"Z4\" and \"K4\" and \"Z5\" and \"K5\" in lista_jogador_2:\n",
    "    count_2 +=1\n",
    "print(count_2)\n",
    "\n",
    "if count_1 > count_2:\n",
    "    Print(\"Boa \" + jogador_1 + \", voce ganhou!\")\n",
    "elif count_1 < count_2:\n",
    "    print(\"Boa \" + jogador_2 + \", voce ganhou!\")\n",
    "else:\n",
    "    Print(\"Jogo empatado\")\n",
    "    \n",
    "    "
   ]
  },
  {
   "cell_type": "markdown",
   "metadata": {},
   "source": [
    "# Passo a passo do Game"
   ]
  },
  {
   "cell_type": "markdown",
   "metadata": {},
   "source": [
    "## Passo 1 - Definir jogador\n"
   ]
  },
  {
   "cell_type": "markdown",
   "metadata": {},
   "source": [
    "## Passo 2 - Montar quadrantes com 25 pontos"
   ]
  },
  {
   "cell_type": "markdown",
   "metadata": {},
   "source": [
    "## Passo 3 - Definir as possibilidades de ação de cada ponto"
   ]
  },
  {
   "cell_type": "markdown",
   "metadata": {},
   "source": [
    "## Passo 4 - Registrar o movimento do Jogador"
   ]
  },
  {
   "cell_type": "markdown",
   "metadata": {},
   "source": [
    "## Passo 5 - Identificar quando um ponto é feito"
   ]
  },
  {
   "cell_type": "markdown",
   "metadata": {},
   "source": [
    "## Passo 6 - Placar do Jogador"
   ]
  },
  {
   "cell_type": "markdown",
   "metadata": {},
   "source": [
    "## Passo 7 - Passar a vez para o jogador seguinte"
   ]
  },
  {
   "cell_type": "markdown",
   "metadata": {},
   "source": [
    "## Passo 8 - Registrando a última jogada"
   ]
  },
  {
   "cell_type": "markdown",
   "metadata": {},
   "source": [
    "## Passo 9 - Identificar jogador com mais pontos"
   ]
  },
  {
   "cell_type": "markdown",
   "metadata": {},
   "source": [
    "## Passo 10 - Parabenizar o Jogador"
   ]
  }
 ],
 "metadata": {
  "kernelspec": {
   "display_name": "Python 3",
   "language": "python",
   "name": "python3"
  },
  "language_info": {
   "codemirror_mode": {
    "name": "ipython",
    "version": 3
   },
   "file_extension": ".py",
   "mimetype": "text/x-python",
   "name": "python",
   "nbconvert_exporter": "python",
   "pygments_lexer": "ipython3",
   "version": "3.7.6"
  },
  "toc": {
   "base_numbering": 1,
   "nav_menu": {},
   "number_sections": true,
   "sideBar": true,
   "skip_h1_title": false,
   "title_cell": "Table of Contents",
   "title_sidebar": "Contents",
   "toc_cell": false,
   "toc_position": {},
   "toc_section_display": true,
   "toc_window_display": false
  },
  "varInspector": {
   "cols": {
    "lenName": 16,
    "lenType": 16,
    "lenVar": 40
   },
   "kernels_config": {
    "python": {
     "delete_cmd_postfix": "",
     "delete_cmd_prefix": "del ",
     "library": "var_list.py",
     "varRefreshCmd": "print(var_dic_list())"
    },
    "r": {
     "delete_cmd_postfix": ") ",
     "delete_cmd_prefix": "rm(",
     "library": "var_list.r",
     "varRefreshCmd": "cat(var_dic_list()) "
    }
   },
   "types_to_exclude": [
    "module",
    "function",
    "builtin_function_or_method",
    "instance",
    "_Feature"
   ],
   "window_display": false
  }
 },
 "nbformat": 4,
 "nbformat_minor": 4
}
